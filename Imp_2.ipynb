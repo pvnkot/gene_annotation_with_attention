{
 "cells": [
  {
   "cell_type": "code",
   "execution_count": 9,
   "metadata": {},
   "outputs": [],
   "source": [
    "#Imports\n",
    "import torch\n",
    "import pandas as pd\n",
    "import torch.optim as optim\n",
    "import torch.nn.functional as F\n",
    "import torch.autograd as autograd\n",
    "from torch import nn\n",
    "import matplotlib.pyplot as plt\n",
    "import time"
   ]
  },
  {
   "cell_type": "markdown",
   "metadata": {},
   "source": [
    "<h3>Config for model"
   ]
  },
  {
   "cell_type": "code",
   "execution_count": 10,
   "metadata": {},
   "outputs": [],
   "source": [
    "positive_sample_size = 500\n",
    "negative_sample_size = 500\n",
    "positive_test_sample_size = 100\n",
    "negative_test_sample_size = 100\n",
    "window_size = 3\n",
    "embedding_size = 5\n",
    "num_epochs = 1\n",
    "batch_size = 50\n",
    "hidden_layer_size = 500\n",
    "hidden_layer_size_2 = 100\n",
    "with_attention = True\n",
    "learning_rate = 0.01"
   ]
  },
  {
   "cell_type": "markdown",
   "metadata": {},
   "source": [
    "<h3>Loading data for basic model"
   ]
  },
  {
   "cell_type": "code",
   "execution_count": 11,
   "metadata": {},
   "outputs": [],
   "source": [
    "positive_data = pd.read_csv('positive_sample.txt', header = None, nrows = positive_sample_size)\n",
    "positive_data.columns = [\"Gene\"]\n",
    "negative_data = pd.read_csv('negative_sample.txt', header = None, nrows = negative_sample_size)\n",
    "negative_data.columns = [\"Gene\"]\n",
    "positive_test_data = pd.read_fwf('positive_sample_test.txt', header = None)\n",
    "positive_test_data.columns = [\"Gene\"]\n",
    "negative_test_data = pd.read_fwf('negative_sample_test.txt', header = None)\n",
    "negative_test_data.columns = [\"Gene\"]\n",
    "train_data = positive_data.append(negative_data)\n",
    "test_data = positive_test_data.append(negative_test_data)\n",
    "model_name = 'fc_with_attention.pt' if with_attention else 'fc_without_attention.pt'\n",
    "#print(data.head(2))"
   ]
  },
  {
   "cell_type": "markdown",
   "metadata": {},
   "source": [
    "<h3>Helper methods for the model"
   ]
  },
  {
   "cell_type": "code",
   "execution_count": 12,
   "metadata": {},
   "outputs": [],
   "source": [
    "#Helper methods\n",
    "def get_labels(positive_sample_size, negative_sample_size):\n",
    "    #labels = []\n",
    "    #positive_\n",
    "    labels = torch.cat((torch.ones([positive_sample_size, 1], dtype=torch.float), torch.zeros([negative_sample_size, 1], dtype=torch.float)))\n",
    "    #print(labels)\n",
    "    return labels\n",
    "def embeddings_helper(window_size):\n",
    "    vocab_set = set()\n",
    "    def generate_vocab_helper(set, k): \n",
    "        n = len(set)  \n",
    "        generate_vocab(set, \"\", n, k) \n",
    "    def generate_vocab(set, prefix, n, k): \n",
    "        if (k == 0) : \n",
    "            vocab_set.add(prefix)\n",
    "            return\n",
    "        for i in range(n): \n",
    "            newPrefix = prefix + set[i] \n",
    "            generate_vocab(set, newPrefix, n, k - 1) \n",
    "    def generate_embed_map(n):\n",
    "        alphabet = ['0','1','2','3','4']\n",
    "        generate_vocab_helper(alphabet, n)\n",
    "\n",
    "        vocab_set_1 = sorted(vocab_set)\n",
    "        vocab_map = {}\n",
    "\n",
    "        for i in range(len(vocab_set_1)):\n",
    "            vocab_map[vocab_set_1[i]] = i\n",
    "        return vocab_map\n",
    "    return generate_embed_map(window_size)\n",
    "\n",
    "def return_embeddings(vocabulary):\n",
    "    embeds = nn.Embedding(len(vocabulary), embedding_size)\n",
    "    embeddings = {}\n",
    "    for word in vocabulary:\n",
    "        embeddings[word] = embeds(torch.tensor(vocabulary[word], dtype=torch.long))\n",
    "    return embeddings\n",
    "\n",
    "#ATG, GTG, TTG\n",
    "def is_start_codon(codon):\n",
    "    start_codons = ['143', '343', '443']#['ATG', 'GTG', 'TTG']\n",
    "    if codon in start_codons:\n",
    "        return True\n",
    "    return False"
   ]
  },
  {
   "cell_type": "markdown",
   "metadata": {},
   "source": [
    "<h3>Create training data with training inputs and labels"
   ]
  },
  {
   "cell_type": "code",
   "execution_count": 13,
   "metadata": {},
   "outputs": [],
   "source": [
    "def get_inputs_and_labels(with_attention, datapoints, positive_sample_size, negative_sample_size):\n",
    "    list_of_tensors = []\n",
    "    #\n",
    "    # In an array, place 1s for codons that match the start pattern and 0s for codons that do not.\n",
    "    #\n",
    "    \n",
    "    #Creating word indexes for permutations of protein bases (words of vocabulary)\n",
    "    vocabulary = embeddings_helper(window_size)\n",
    "    embeddings = return_embeddings(vocabulary)\n",
    "    \n",
    "    codon_arr = []\n",
    "    for data in datapoints.itertuples():\n",
    "        gene = data.Gene\n",
    "\n",
    "        for i in range(len(gene) - window_size + 1):\n",
    "            codon = gene[i:i+window_size]\n",
    "            weight = 1\n",
    "            if with_attention and is_start_codon(codon):\n",
    "                weight = i+1\n",
    "            if i == 0:\n",
    "                first_tensor = embeddings[gene[i:i+window_size]] * weight\n",
    "            else:\n",
    "                first_tensor = torch.cat((first_tensor, weight * embeddings[gene[i:i+window_size]]), 0)\n",
    "\n",
    "        list_of_tensors.append(first_tensor)\n",
    "    inputs = torch.stack(list_of_tensors)\n",
    "    labels = get_labels(positive_sample_size, negative_sample_size)\n",
    "    return inputs, labels"
   ]
  },
  {
   "cell_type": "markdown",
   "metadata": {},
   "source": [
    "<h3> Implementing the FC Layer"
   ]
  },
  {
   "cell_type": "code",
   "execution_count": 26,
   "metadata": {},
   "outputs": [],
   "source": [
    "class Net(nn.Module):\n",
    "    def __init__(self):\n",
    "        super(Net, self).__init__()\n",
    "        self.fc1 = nn.Linear(embedding_size*(len(positive_data.Gene[0]) - window_size + 1), hidden_layer_size)\n",
    "        self.relu = F.relu\n",
    "        self.sigmoid = nn.Sigmoid()\n",
    "        #self.fc2 = nn.Linear(hidden_layer_size, hidden_layer_size_2)\n",
    "        self.fc2 = nn.Linear(hidden_layer_size, 1)\n",
    "        #self.out = nn.Linear(hidden_layer_size_2, 1)\n",
    "\n",
    "    def forward(self, x):\n",
    "        a1 = self.fc1(x)\n",
    "        h1 = self.relu(a1)\n",
    "        #dout = self.dout(h1)\n",
    "        a2 = self.fc2(h1)\n",
    "        h2 = self.relu(a2)\n",
    "        #a3 = self.out(h2)\n",
    "        y = self.sigmoid(h2)\n",
    "        return y\n",
    "    \n",
    "def train_epoch(model, inputs, labels, optimizer, criterion, batch_size):\n",
    "    model.train()\n",
    "    #losses = []\n",
    "    losses = torch.zeros(len(inputs), 1)\n",
    "    labels_hat = []\n",
    "    correct, wrong = 0,0\n",
    "    for i in range(0, inputs.size(0)):\n",
    "        #data_batch = inputs[i:i + batch_size, :]\n",
    "        #labels_batch = labels[i:i + batch_size, :]\n",
    "        inputs[i] = autograd.Variable(inputs[i])\n",
    "        labels[i] = autograd.Variable(labels[i])\n",
    "\n",
    "        optimizer.zero_grad()\n",
    "        # (1) Forward\n",
    "        label_hat = model(inputs[i])\n",
    "        #print(labels_hat)\n",
    "        # (2) Compute diff\n",
    "        loss = criterion(label_hat, labels[i])\n",
    "        # (3) Compute gradients\n",
    "        #losses.append(loss.data.numpy())\n",
    "        losses[i] = loss\n",
    "        loss.backward(retain_graph = True)\n",
    "        # (4) update weights\n",
    "        optimizer.step()        \n",
    "        \n",
    "#         print(loss)\n",
    "#         print('>>>>>')\n",
    "        #get_accuracy(labels_hat)\n",
    "        correct, wrong = get_train_accuracy(label_hat, len(labels_hat), len(labels), correct, wrong)\n",
    "        #labels_hat.append(label_hat)\n",
    "        #labels_hat = torch.cat(labels_hat, labels_hat_batch)\n",
    "        \n",
    "\n",
    "    #print('labels_hat size>', len(labels_hat))\n",
    "    loss = sum(losses)/len(losses)\n",
    "    \n",
    "    return loss, labels_hat, tuple((correct, wrong))\n",
    "    \n",
    "def train_model(model, inputs, labels, optimizer, criterion, with_attention, batch_size):\n",
    "    losses = []\n",
    "    labels_hat = []\n",
    "    print('Training the model:')\n",
    "    start_time = time.time()\n",
    "    accuracies = []\n",
    "    for epoch in range(num_epochs):  # loop over the dataset multiple times\n",
    "        loss, labels_hat, acc = train_epoch(model, inputs, labels, optimizer, criterion, batch_size)\n",
    "\n",
    "        losses.append(loss)\n",
    "        #labels_hat.append(label_hat)\n",
    "        #accuracy\n",
    "        accuracy = 100*(acc[0]/(acc[0]+acc[1]))\n",
    "        accuracies.append(accuracy)\n",
    "        print('Accuracy for epoch', epoch, ' is: ', accuracy)\n",
    "#         if epoch % 25 == 0:    #print every 25 mini-batches\n",
    "#             print('[%d, %5d] loss: %.9f' %\n",
    "#                 (epoch + 1, epoch + 1, running_loss/len(inputs)))\n",
    "#             #running_loss = 0.0\n",
    "    \n",
    "    torch.save(model.state_dict(), model_name)\n",
    "    print('Finished. Training took %.3f' %((time.time() - start_time)/60), 'minutes.')\n",
    "    return losses, accuracies"
   ]
  },
  {
   "cell_type": "code",
   "execution_count": 27,
   "metadata": {},
   "outputs": [],
   "source": [
    "def train():\n",
    "    fcNet = Net()\n",
    "    inputs, labels = get_inputs_and_labels(with_attention, train_data, positive_sample_size, negative_sample_size)\n",
    "    criterion = nn.BCELoss()\n",
    "    optimizer = optim.SGD(fcNet.parameters(), lr=0.01, momentum=0.0)\n",
    "    losses, train_accuracies = train_model(fcNet, inputs, labels, optimizer, criterion, with_attention, batch_size)\n",
    "    if losses != None:\n",
    "        plt.plot(losses)\n",
    "        title = 'Loss vs Epochs for: ' + (str)(positive_sample_size + negative_sample_size) + ' data points and ' + (str)(num_epochs) + ' epochs'\n",
    "        plt.title(title)\n",
    "    return train_accuracies\n",
    "        \n",
    "        \n",
    "def test():\n",
    "    model = Net()\n",
    "    model.load_state_dict(torch.load(model_name))\n",
    "    model.eval()\n",
    "\n",
    "    test_inputs, test_labels = get_inputs_and_labels(with_attention, test_data, positive_sample_size, negative_sample_size)\n",
    "    test_labels_hat = model(test_inputs)\n",
    "    accuracy = get_test_accuracy(test_labels_hat)\n",
    "    print('Accuracy is: ' , accuracy)\n",
    "    return accuracy\n",
    "#    print(correct, wrong)\n",
    "    \n",
    "def get_train_accuracy(label, index, data_size, correct, wrong):    \n",
    "    if index < data_size/2+1:\n",
    "        if label > 0.5:\n",
    "            correct += 1\n",
    "        else:\n",
    "            wrong += 1\n",
    "    else:\n",
    "        if label > 0.5:\n",
    "            wrong += 1\n",
    "        else:\n",
    "            correct += 1\n",
    "    return correct, wrong\n",
    "\n",
    "def get_test_accuracy(labels_hat):\n",
    "    #print('Length of labels_hat:', len(labels_hat))\n",
    "    correct, wrong = 0, 0\n",
    "    #if labels_hat\n",
    "    for i in range(len(labels_hat)//2 + 1):\n",
    "        if labels_hat[i] > 0.5:\n",
    "            correct += 1\n",
    "        else:\n",
    "            wrong += 1\n",
    "    for i in range(len(labels_hat)//2 + 1, len(labels_hat)):\n",
    "        if labels_hat[i] > 0.5:\n",
    "            wrong += 1\n",
    "        else:\n",
    "            correct += 1\n",
    "    accuracy = 100 * (correct/(correct+wrong))\n",
    "    return accuracy\n",
    "\n",
    "\n"
   ]
  },
  {
   "cell_type": "markdown",
   "metadata": {},
   "source": [
    "************************************************************************************************************"
   ]
  },
  {
   "cell_type": "code",
   "execution_count": 28,
   "metadata": {},
   "outputs": [
    {
     "name": "stdout",
     "output_type": "stream",
     "text": [
      "Training the model:\n",
      "Accuracy for epoch 0  is:  49.9\n",
      "Finished. Training took 18.110 minutes.\n",
      "Accuracy is:  49.833333333333336\n"
     ]
    },
    {
     "data": {
      "image/png": "[encoded data removed]",
      "text/plain": [
       "<Figure size 432x288 with 1 Axes>"
      ]
     },
     "metadata": {
      "needs_background": "light"
     },
     "output_type": "display_data"
    }
   ],
   "source": [
    "train_accuracies = train()\n",
    "if train_accuracies != None:\n",
    "    plt.plot(train_accuracies)\n",
    "    title = 'Accuracy vs Epochs for: ' + (str)(positive_sample_size+negative_sample_size) + ' data points and ' + (str)(num_epochs) + ' epochs'\n",
    "    plt.title(title)\n",
    "test_accuracy = test()"
   ]
  },
  {
   "cell_type": "code",
   "execution_count": null,
   "metadata": {},
   "outputs": [],
   "source": []
  },
  {
   "cell_type": "markdown",
   "metadata": {},
   "source": [
    "************************************************************************************************************"
   ]
  },
  {
   "cell_type": "code",
   "execution_count": null,
   "metadata": {},
   "outputs": [],
   "source": [
    "set_hyperparameters(3, 1000, 50, 0.01)\n",
    "#net = Net()\n",
    "train()\n",
    "test()"
   ]
  },
  {
   "cell_type": "code",
   "execution_count": null,
   "metadata": {},
   "outputs": [],
   "source": []
  }
 ],
 "metadata": {
  "kernelspec": {
   "display_name": "Python 3",
   "language": "python",
   "name": "python3"
  },
  "language_info": {
   "codemirror_mode": {
    "name": "ipython",
    "version": 3
   },
   "file_extension": ".py",
   "mimetype": "text/x-python",
   "name": "python",
   "nbconvert_exporter": "python",
   "pygments_lexer": "ipython3",
   "version": "3.6.5"
  }
 },
 "nbformat": 4,
 "nbformat_minor": 2
}
