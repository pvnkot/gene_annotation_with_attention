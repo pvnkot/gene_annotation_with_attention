{
 "cells": [
  {
   "cell_type": "code",
   "execution_count": 11,
   "metadata": {},
   "outputs": [],
   "source": [
    "#Imports\n",
    "import torch\n",
    "import pandas as pd\n",
    "import torch.optim as optim\n",
    "import torch.nn.functional as F\n",
    "import torch.autograd as autograd\n",
    "from torch import nn\n",
    "import matplotlib.pyplot as plt\n",
    "import time\n",
    "from tqdm import tqdm_notebook as tqdm\n",
    "#tqdm().pandas()"
   ]
  },
  {
   "cell_type": "markdown",
   "metadata": {},
   "source": [
    "<h3>Config for model"
   ]
  },
  {
   "cell_type": "code",
   "execution_count": 46,
   "metadata": {},
   "outputs": [],
   "source": [
    "positive_sample_size = 2000\n",
    "negative_sample_size = 2000\n",
    "positive_test_sample_size = 300\n",
    "negative_test_sample_size = 300\n",
    "window_size = 3\n",
    "embedding_size = 5\n",
    "num_epochs = 100\n",
    "batch_size = 50\n",
    "hidden_layer_size = 500\n",
    "hidden_layer_size_2 = 500\n",
    "with_attention = True\n",
    "learning_rate = 0.01\n",
    "model_name = 'fc_with_attention.pt'\n",
    "test_model_name = 'fc_with_attn_per_epoch.pt'"
   ]
  },
  {
   "cell_type": "markdown",
   "metadata": {},
   "source": [
    "<h3>Loading data for basic model"
   ]
  },
  {
   "cell_type": "code",
   "execution_count": 47,
   "metadata": {},
   "outputs": [],
   "source": [
    "positive_data = pd.read_csv('positive_sample.txt', header = None, nrows = positive_sample_size)\n",
    "positive_data.columns = [\"Gene\"]\n",
    "negative_data = pd.read_csv('negative_sample.txt', header = None, nrows = negative_sample_size)\n",
    "negative_data.columns = [\"Gene\"]\n",
    "positive_test_data = pd.read_fwf('positive_sample_test.txt', header = None)\n",
    "positive_test_data.columns = [\"Gene\"]\n",
    "negative_test_data = pd.read_fwf('negative_sample_test.txt', header = None)\n",
    "negative_test_data.columns = [\"Gene\"]\n",
    "train_data = positive_data.append(negative_data)\n",
    "test_data = positive_test_data.append(negative_test_data)\n",
    "\n",
    "#print(data.head(2))"
   ]
  },
  {
   "cell_type": "code",
   "execution_count": 48,
   "metadata": {},
   "outputs": [
    {
     "data": {
      "text/plain": [
       "(4000, 1)"
      ]
     },
     "execution_count": 48,
     "metadata": {},
     "output_type": "execute_result"
    }
   ],
   "source": [
    "train_data.shape"
   ]
  },
  {
   "cell_type": "markdown",
   "metadata": {},
   "source": [
    "<h3>Helper methods for the model"
   ]
  },
  {
   "cell_type": "code",
   "execution_count": 49,
   "metadata": {},
   "outputs": [],
   "source": [
    "#Helper methods\n",
    "def get_labels(positive_sample_size, negative_sample_size):\n",
    "    #labels = []\n",
    "    #positive_\n",
    "    labels = torch.cat((torch.ones([positive_sample_size, 1], dtype=torch.float), torch.zeros([negative_sample_size, 1], dtype=torch.float)))\n",
    "    #print(labels)\n",
    "    return labels\n",
    "def embeddings_helper(window_size):\n",
    "    vocab_set = set()\n",
    "    def generate_vocab_helper(set, k): \n",
    "        n = len(set)  \n",
    "        generate_vocab(set, \"\", n, k) \n",
    "    def generate_vocab(set, prefix, n, k): \n",
    "        if (k == 0) : \n",
    "            vocab_set.add(prefix)\n",
    "            return\n",
    "        for i in range(n): \n",
    "            newPrefix = prefix + set[i] \n",
    "            generate_vocab(set, newPrefix, n, k - 1) \n",
    "    def generate_embed_map(n):\n",
    "        alphabet = ['0','1','2','3','4']\n",
    "        generate_vocab_helper(alphabet, n)\n",
    "\n",
    "        vocab_set_1 = sorted(vocab_set)\n",
    "        vocab_map = {}\n",
    "\n",
    "        for i in range(len(vocab_set_1)):\n",
    "            vocab_map[vocab_set_1[i]] = i\n",
    "        return vocab_map\n",
    "    return generate_embed_map(window_size)\n",
    "\n",
    "def return_embeddings(vocabulary):\n",
    "    embeds = nn.Embedding(len(vocabulary), embedding_size)\n",
    "    embeddings = {}\n",
    "    for word in vocabulary:\n",
    "        embeddings[word] = embeds(torch.tensor(vocabulary[word], dtype=torch.long))\n",
    "    return embeddings\n",
    "\n",
    "#ATG, GTG, TTG\n",
    "def is_start_codon(codon):\n",
    "    start_codons = ['143', '343', '443']#['ATG', 'GTG', 'TTG']\n",
    "    if codon in start_codons:\n",
    "        return True\n",
    "    return False"
   ]
  },
  {
   "cell_type": "markdown",
   "metadata": {},
   "source": [
    "<h3>Create training data with training inputs and labels"
   ]
  },
  {
   "cell_type": "code",
   "execution_count": 50,
   "metadata": {},
   "outputs": [],
   "source": [
    "def create_vocabulary(window_size):\n",
    "    return embeddings_helper(window_size)\n",
    "\n",
    "def get_inputs_and_labels(datapoints, positive_sample_size, negative_sample_size):\n",
    "    # In an array, place 1s for codons that match the start pattern and 0s for codons that do not.\n",
    "    #Creating word indexes for permutations of protein bases (words of vocabulary)\n",
    "    vocabulary = create_vocabulary(window_size)\n",
    "    inputs = []\n",
    "    for data in datapoints.itertuples():\n",
    "        gene = data.Gene\n",
    "        input = torch.tensor([vocabulary[gene[i:i+window_size]] for i in range(0, len(gene) - window_size + 1)], dtype=torch.long)\n",
    "        inputs.append(input)\n",
    "    labels = get_labels(positive_sample_size, negative_sample_size)\n",
    "    return inputs, labels"
   ]
  },
  {
   "cell_type": "markdown",
   "metadata": {},
   "source": [
    "<h3> Implementing the FC Layer"
   ]
  },
  {
   "cell_type": "code",
   "execution_count": 51,
   "metadata": {},
   "outputs": [],
   "source": [
    "class Attention_Net(nn.Module):\n",
    "    def __init__(self):\n",
    "        super(Attention_Net, self).__init__()\n",
    "        #embeds are of the dimension n * (1 x (embedding_size * no_of_kmers))\n",
    "        self.embeds = nn.Embedding(len(create_vocabulary(window_size)), embedding_size)\n",
    "        self.embeds_size = embedding_size*(len(positive_data.Gene[0]) - window_size + 1)\n",
    "        #self.attn_weights = nn.Parameter(torch.randn(embeds_size, embeds_size))\n",
    "        self.tanh = torch.tanh\n",
    "        self.fc1 = nn.Linear(self.embeds_size, hidden_layer_size)\n",
    "        self.relu = F.relu\n",
    "        self.sigmoid = nn.Sigmoid()\n",
    "        #self.fc2 = nn.Linear(hidden_layer_size, hidden_layer_size_2)\n",
    "        #self.fc2 = nn.Linear(hidden_layer_size, hidden_layer_size_2)\n",
    "        self.fc2 = nn.Linear(hidden_layer_size, 1)\n",
    "        #self.out = nn.Linear(hidden_layer_size_2, 1)\n",
    "\n",
    "    def forward(self, inputs):\n",
    "        embedding_weights = self.embeds(inputs).view((1,-1))\n",
    "        attn_weights = autograd.Variable(torch.randn(self.embeds_size, self.embeds_size))\n",
    "        transformation = self.tanh(torch.mm(embedding_weights, attn_weights))\n",
    "        context = self.sigmoid(transformation)\n",
    "        \n",
    "#         print(embedding_weights.shape)\n",
    "#         print(context.shape)\n",
    "        \n",
    "        attended_inputs = embedding_weights * context\n",
    "        layer1 = self.fc1(attended_inputs)\n",
    "        act1 = self.relu(layer1)\n",
    "        #dout = self.dout(h1)\n",
    "        layer2 = self.fc2(act1)\n",
    "        act2 = self.relu(layer2)\n",
    "        #layer3 = self.out(act2)\n",
    "        #act3 = self.relu(layer3)\n",
    "        #output = self.sigmoid(act3)\n",
    "        output = self.sigmoid(act2)\n",
    "        return output\n",
    "    \n",
    "def train_epoch(model, inputs, labels, optimizer, criterion):\n",
    "    model.train()\n",
    "    losses = []\n",
    "    vocabulary = create_vocabulary(window_size)\n",
    "    labels_hat = []\n",
    "    j = 0\n",
    "    correct, wrong = 0,0\n",
    "    for data in inputs.itertuples():\n",
    "        gene = data.Gene\n",
    "        input_ = torch.tensor([vocabulary[gene[i:i+window_size]] for i in range(0, len(gene) - window_size + 1)], dtype=torch.long)\n",
    "        #data_batch = inputs[i:i + batch_size, :]\n",
    "        #labels_batch = labels[i:i + batch_size, :]\n",
    "        inputs = autograd.Variable(input_)\n",
    "        label = autograd.Variable(labels[j])\n",
    "        j += 1\n",
    "        optimizer.zero_grad()\n",
    "        # (1) Forward\n",
    "        label_hat = model(input_)\n",
    "        # (2) Compute diff\n",
    "        loss = criterion(label_hat, label)\n",
    "        # (3) Compute gradients\n",
    "        losses.append(loss.data.numpy())\n",
    "        loss.backward(retain_graph = False)\n",
    "        # (4) update weights\n",
    "        optimizer.step()        \n",
    "        labels_hat.append(label_hat)\n",
    "        correct, wrong = get_train_accuracy(label_hat, j-1, len(labels), correct, wrong)\n",
    "        \n",
    "\n",
    "    #print('labels_hat size>', len(labels_hat))\n",
    "    loss = sum(losses)/len(losses)\n",
    "    \n",
    "    return loss, labels_hat, tuple((correct, wrong))\n",
    "    \n",
    "def train_model(model, optimizer, criterion, with_attention):\n",
    "    losses = []\n",
    "    labels_hat = []\n",
    "    print('Training the model:')\n",
    "    start_time = time.time()\n",
    "    train_accuracies, test_accuracies = [], []\n",
    "    test_labels = get_labels(positive_test_sample_size, negative_test_sample_size)\n",
    "    for epoch in tqdm(range(num_epochs)):  # loop over the dataset multiple times\n",
    "        inputs = train_data\n",
    "        labels = get_labels(positive_sample_size, negative_sample_size)\n",
    "        loss, labels_hat, acc = train_epoch(model, inputs, labels, optimizer, criterion)\n",
    "\n",
    "        losses.append(loss)\n",
    "        #labels_hat.append(label_hat)\n",
    "        #accuracy\n",
    "        train_accuracy = 100*(acc[0]/(acc[0]+acc[1]))\n",
    "        train_accuracies.append(train_accuracy)\n",
    "        torch.save(model.state_dict(), test_model_name)\n",
    "        test_accuracy = test(test_data, test_labels, test_model_name)\n",
    "        test_accuracies.append(test_accuracy)\n",
    "    torch.save(model.state_dict(), model_name)\n",
    "    print('Finished. Training took %.3f' %((time.time() - start_time)/60), 'minutes.')\n",
    "    return losses, train_accuracies, test_accuracies"
   ]
  },
  {
   "cell_type": "code",
   "execution_count": 52,
   "metadata": {},
   "outputs": [
    {
     "name": "stdout",
     "output_type": "stream",
     "text": [
      "Attention_Net(\n",
      "  (embeds): Embedding(125, 5)\n",
      "  (fc1): Linear(in_features=495, out_features=500, bias=True)\n",
      "  (sigmoid): Sigmoid()\n",
      "  (fc2): Linear(in_features=500, out_features=1, bias=True)\n",
      ")\n"
     ]
    }
   ],
   "source": [
    "attn_net = Attention_Net()\n",
    "print(attn_net)"
   ]
  },
  {
   "cell_type": "code",
   "execution_count": 53,
   "metadata": {},
   "outputs": [],
   "source": [
    "def train():\n",
    "    fcNet = Attention_Net()\n",
    "    #inputs, labels = get_inputs_and_labels(train_data, positive_sample_size, negative_sample_size)\n",
    "    criterion = nn.BCELoss()\n",
    "    optimizer = optim.SGD(fcNet.parameters(), lr=0.01, momentum=0.0)\n",
    "    losses, train_accuracies, test_accuracies = train_model(fcNet, optimizer, criterion, with_attention)\n",
    "    #print('Losses>', losses)\n",
    "    if losses != None:\n",
    "        plt.plot(losses)\n",
    "        title = 'Loss vs Epochs for: ' + (str)(positive_sample_size + negative_sample_size) + ' data points and ' + (str)(num_epochs) + ' epochs'\n",
    "        plt.title(title)\n",
    "    return train_accuracies, test_accuracies\n",
    "        \n",
    "        \n",
    "def test(inputs, labels, model_name):\n",
    "    model = Attention_Net()\n",
    "    model.load_state_dict(torch.load(model_name))\n",
    "    model.eval()\n",
    "    labels_hat = []\n",
    "    j=0\n",
    "    vocabulary = create_vocabulary(window_size)\n",
    "    for data in inputs.itertuples():\n",
    "        gene = data.Gene\n",
    "        input_ = torch.tensor([vocabulary[gene[i:i+window_size]] for i in range(0, len(gene) - window_size + 1)], dtype=torch.long)\n",
    "        j += 1\n",
    "        label_hat = model(input_)\n",
    "        labels_hat.append(label_hat)\n",
    "        \n",
    "    accuracy = get_test_accuracy(labels_hat)\n",
    "    return accuracy\n",
    "    \n",
    "def get_train_accuracy(label, index, data_size, correct, wrong):    \n",
    "    if index < data_size/2+1:\n",
    "        if label > 0.5:\n",
    "            correct += 1\n",
    "        else:\n",
    "            wrong += 1\n",
    "    else:\n",
    "        if label > 0.5:\n",
    "            wrong += 1\n",
    "        else:\n",
    "            correct += 1\n",
    "    return correct, wrong\n",
    "\n",
    "def get_test_accuracy(labels_hat):\n",
    "    correct, wrong = 0, 0\n",
    "    for i in range(len(labels_hat)//2 + 1):\n",
    "        if labels_hat[i] > 0.5:\n",
    "            correct += 1\n",
    "        else:\n",
    "            wrong += 1\n",
    "    for i in range(len(labels_hat)//2 + 1, len(labels_hat)):\n",
    "        if labels_hat[i] > 0.5:\n",
    "            wrong += 1\n",
    "        else:\n",
    "            correct += 1\n",
    "    accuracy = 100 * (correct/(correct+wrong))\n",
    "    return accuracy\n",
    "\n",
    "\n"
   ]
  },
  {
   "cell_type": "markdown",
   "metadata": {},
   "source": [
    "************************************************************************************************************"
   ]
  },
  {
   "cell_type": "code",
   "execution_count": 54,
   "metadata": {},
   "outputs": [
    {
     "name": "stdout",
     "output_type": "stream",
     "text": [
      "Training the model:\n"
     ]
    },
    {
     "data": {
      "application/vnd.jupyter.widget-view+json": {
       "model_id": "d8033c86d55e4e36b378b05d778b0342",
       "version_major": 2,
       "version_minor": 0
      },
      "text/plain": [
       "HBox(children=(IntProgress(value=0), HTML(value='')))"
      ]
     },
     "metadata": {},
     "output_type": "display_data"
    },
    {
     "name": "stdout",
     "output_type": "stream",
     "text": [
      "\n",
      "Finished. Training took 21.520 minutes.\n"
     ]
    },
    {
     "data": {
      "image/png": "[encoded data removed]",
      "text/plain": [
       "<Figure size 432x288 with 1 Axes>"
      ]
     },
     "metadata": {
      "needs_background": "light"
     },
     "output_type": "display_data"
    }
   ],
   "source": [
    "train_accuracies, test_accuracies = train()"
   ]
  },
  {
   "cell_type": "code",
   "execution_count": 55,
   "metadata": {},
   "outputs": [
    {
     "data": {
      "image/png": "[encoded data removed]",
      "text/plain": [
       "<Figure size 432x288 with 1 Axes>"
      ]
     },
     "metadata": {
      "needs_background": "light"
     },
     "output_type": "display_data"
    }
   ],
   "source": [
    "if train_accuracies != None and test_accuracies != None:\n",
    "    plt.xlabel('Epochs')\n",
    "    plt.ylabel('Accuracies')\n",
    "    plt.plot(train_accuracies)\n",
    "    plt.plot(test_accuracies)\n",
    "    plt.gca().legend(('Training', 'Test'))\n",
    "    \n",
    "    title = 'Test and Training Accuracies vs Epochs for: ' + (str)(positive_sample_size+negative_sample_size) + ' data points and ' + (str)(num_epochs) + ' epochs'\n",
    "    plt.title(title)\n"
   ]
  },
  {
   "cell_type": "markdown",
   "metadata": {},
   "source": [
    "************************************************************************************************************"
   ]
  },
  {
   "cell_type": "code",
   "execution_count": 56,
   "metadata": {},
   "outputs": [
    {
     "name": "stdout",
     "output_type": "stream",
     "text": [
      "Training accuracy for the trained model is:  99.875\n",
      "Overall Test Accuracy is:  94.66666666666667\n"
     ]
    }
   ],
   "source": [
    "test_labels = get_labels(positive_test_sample_size, negative_test_sample_size)\n",
    "test_accuracy = test(test_data, test_labels, model_name)\n",
    "print('Training accuracy for the trained model is: ', train_accuracies[len(train_accuracies)-1])\n",
    "print('Overall Test Accuracy is: ' , test_accuracy)"
   ]
  }
 ],
 "metadata": {
  "kernelspec": {
   "display_name": "Python 3",
   "language": "python",
   "name": "python3"
  },
  "language_info": {
   "codemirror_mode": {
    "name": "ipython",
    "version": 3
   },
   "file_extension": ".py",
   "mimetype": "text/x-python",
   "name": "python",
   "nbconvert_exporter": "python",
   "pygments_lexer": "ipython3",
   "version": "3.6.5"
  }
 },
 "nbformat": 4,
 "nbformat_minor": 2
}
