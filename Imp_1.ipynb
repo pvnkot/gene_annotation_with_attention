{
 "cells": [
  {
   "cell_type": "code",
   "execution_count": 165,
   "metadata": {},
   "outputs": [],
   "source": [
    "import torch\n",
    "import pandas as pd\n",
    "import torch.optim as optim\n",
    "import torch.nn.functional as F\n",
    "import torch.autograd as autograd\n",
    "from torch import nn"
   ]
  },
  {
   "cell_type": "markdown",
   "metadata": {},
   "source": [
    "<h3>Loading first 1000 rows into data for basic model"
   ]
  },
  {
   "cell_type": "code",
   "execution_count": 119,
   "metadata": {},
   "outputs": [],
   "source": [
    "positive_data = pd.read_csv('positive_sample.txt', header = None, nrows = 500)\n",
    "positive_data.columns = [\"Gene\"]\n",
    "negative_data = pd.read_csv('negative_sample.txt', header = None, nrows = 500)\n",
    "negative_data.columns = [\"Gene\"]\n",
    "train_data = positive_data.append(negative_data)\n",
    "#print(data.head(2))"
   ]
  },
  {
   "cell_type": "markdown",
   "metadata": {},
   "source": [
    "<h3>Creating word indexes for per permutations of proteins"
   ]
  },
  {
   "cell_type": "code",
   "execution_count": 154,
   "metadata": {},
   "outputs": [],
   "source": [
    "vocab_set = set()\n",
    "\n",
    "def generate_vocabmap_helper(set, k): \n",
    "    n = len(set)  \n",
    "    generate_k_sized(set, \"\", n, k) \n",
    "def generate_k_sized(set, prefix, n, k): \n",
    "    if (k == 0) : \n",
    "        vocab_set.add(prefix)\n",
    "        return\n",
    "    for i in range(n): \n",
    "        newPrefix = prefix + set[i] \n",
    "        generate_k_sized(set, newPrefix, n, k - 1) \n",
    "def generate_vocabmap(n):\n",
    "    alphabet = ['0','1','2','3','4']\n",
    "    generate_vocabmap_helper(alphabet, n)\n",
    "    \n",
    "    vocab_set_1 = sorted(vocab_set)\n",
    "    vocab_map = {}\n",
    "    \n",
    "    for i in range(len(vocab_set_1)):\n",
    "        vocab_map[vocab_set_1[i]] = i\n",
    "    return vocab_map\n",
    "def get_labels():\n",
    "    #labels = []\n",
    "    #positive_\n",
    "    labels = torch.cat((torch.ones([500, 1], dtype=torch.long), torch.zeros([500, 1], dtype=torch.long)))\n",
    "    #print(labels)\n",
    "    return labels\n",
    "\n",
    "window_size = 1     \n",
    "vocabulary = generate_vocabmap(window_size)\n",
    "\n",
    "#print(len(vocabulary))"
   ]
  },
  {
   "cell_type": "code",
   "execution_count": 155,
   "metadata": {},
   "outputs": [],
   "source": [
    "# Generate embeddings for word indexes\n",
    "embeds = nn.Embedding(len(vocabulary), 5)\n",
    "embeddings = {}\n",
    "for word in vocabulary:\n",
    "    embeddings[word] = embeds(torch.tensor(vocabulary[word], dtype=torch.long))\n",
    "\n",
    "#print((protein_embed))"
   ]
  },
  {
   "cell_type": "code",
   "execution_count": 156,
   "metadata": {},
   "outputs": [],
   "source": [
    "list_of_tensors = []\n",
    "for data in train_data.itertuples():\n",
    "    gene = data.Gene\n",
    "    for i in range(len(gene) - window_size + 1):\n",
    "        if i == 0:\n",
    "            first_tensor = embeddings[gene[i:i+window_size]]\n",
    "        else:\n",
    "            first_tensor = torch.cat((first_tensor, embeddings[gene[i:i+window_size]]), 0)\n",
    "    list_of_tensors.append(first_tensor)\n",
    "inputs = torch.stack(list_of_tensors)\n",
    "labels = get_labels()"
   ]
  },
  {
   "cell_type": "code",
   "execution_count": 186,
   "metadata": {},
   "outputs": [],
   "source": [
    "class Net(nn.Module):\n",
    "    def __init__(self):\n",
    "        super(Net, self).__init__()\n",
    "        self.fc1 = nn.Linear(505, 500)\n",
    "        self.fc2 = nn.Linear(500, 2)\n",
    "\n",
    "    def forward(self, x):\n",
    "        x = F.relu(self.fc1(x))\n",
    "        x = self.fc2(x)\n",
    "        return x\n",
    "net = Net()"
   ]
  },
  {
   "cell_type": "markdown",
   "metadata": {},
   "source": [
    "<h3> Implementing the FC Layer"
   ]
  },
  {
   "cell_type": "code",
   "execution_count": 187,
   "metadata": {},
   "outputs": [],
   "source": [
    "criterion = nn.CrossEntropyLoss()\n",
    "optimizer = optim.SGD(net.parameters(), lr=0.1, momentum=0.0)"
   ]
  },
  {
   "cell_type": "code",
   "execution_count": 188,
   "metadata": {},
   "outputs": [
    {
     "name": "stdout",
     "output_type": "stream",
     "text": [
      "[1,     1] loss: 0.000485342\n",
      "[26,    26] loss: 0.000485342\n",
      "[51,    51] loss: 0.000485342\n",
      "[76,    76] loss: 0.000485342\n",
      "[101,   101] loss: 0.000485342\n",
      "[126,   126] loss: 0.000485342\n",
      "[151,   151] loss: 0.000485342\n",
      "[176,   176] loss: 0.000485342\n",
      "[201,   201] loss: 0.000485342\n",
      "[226,   226] loss: 0.000485342\n",
      "[251,   251] loss: 0.000485342\n",
      "[276,   276] loss: 0.000485342\n",
      "[301,   301] loss: 0.000485342\n",
      "[326,   326] loss: 0.000485342\n",
      "[351,   351] loss: 0.000485342\n",
      "[376,   376] loss: 0.000485342\n",
      "[401,   401] loss: 0.000485342\n",
      "[426,   426] loss: 0.000485342\n",
      "[451,   451] loss: 0.000485342\n",
      "[476,   476] loss: 0.000485342\n",
      "[501,   501] loss: 0.000485342\n",
      "[526,   526] loss: 0.000485342\n",
      "[551,   551] loss: 0.000485342\n",
      "[576,   576] loss: 0.000485342\n",
      "[601,   601] loss: 0.000485342\n",
      "[626,   626] loss: 0.000485342\n",
      "[651,   651] loss: 0.000485342\n",
      "[676,   676] loss: 0.000485342\n",
      "[701,   701] loss: 0.000485342\n",
      "[726,   726] loss: 0.000485342\n",
      "[751,   751] loss: 0.000485342\n",
      "[776,   776] loss: 0.000485342\n",
      "[801,   801] loss: 0.000485342\n",
      "[826,   826] loss: 0.000485342\n",
      "[851,   851] loss: 0.000485342\n",
      "[876,   876] loss: 0.000485342\n",
      "[901,   901] loss: 0.000485342\n",
      "[926,   926] loss: 0.000485342\n",
      "[951,   951] loss: 0.000485342\n",
      "[976,   976] loss: 0.000485342\n",
      "Finished Training\n"
     ]
    }
   ],
   "source": [
    "for epoch in range(1000):  # loop over the dataset multiple times\n",
    "    running_loss = 0.0\n",
    "    # zero the parameter gradients\n",
    "    optimizer.zero_grad()\n",
    "\n",
    "    # forward + backward + optimize\n",
    "    outputs = net(inputs)\n",
    "    #loss = criterion(outputs, labels)\n",
    "#     print(outputs)\n",
    "    outputs = autograd.Variable(outputs.data, requires_grad=True)\n",
    "\n",
    "    loss = criterion(outputs, torch.max(labels,1)[1])\n",
    "    loss.backward()\n",
    "    optimizer.step()\n",
    "\n",
    "    # print statistics\n",
    "    running_loss += loss.item()\n",
    "    #print(running_loss)\n",
    "    if epoch % 25 == 0:    #print every 25 mini-batches\n",
    "        print('[%d, %5d] loss: %.9f' %\n",
    "              (epoch + 1, epoch + 1, running_loss/len(inputs)))\n",
    "        #running_loss = 0.0\n",
    "\n",
    "print('Finished Training')"
   ]
  },
  {
   "cell_type": "code",
   "execution_count": null,
   "metadata": {},
   "outputs": [],
   "source": []
  }
 ],
 "metadata": {
  "kernelspec": {
   "display_name": "Python 3",
   "language": "python",
   "name": "python3"
  },
  "language_info": {
   "codemirror_mode": {
    "name": "ipython",
    "version": 3
   },
   "file_extension": ".py",
   "mimetype": "text/x-python",
   "name": "python",
   "nbconvert_exporter": "python",
   "pygments_lexer": "ipython3",
   "version": "3.6.5"
  }
 },
 "nbformat": 4,
 "nbformat_minor": 2
}
