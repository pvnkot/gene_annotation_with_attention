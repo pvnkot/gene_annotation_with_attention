{
 "cells": [
  {
   "cell_type": "code",
   "execution_count": 74,
   "metadata": {},
   "outputs": [],
   "source": [
    "#Imports\n",
    "import torch\n",
    "import pandas as pd\n",
    "import torch.optim as optim\n",
    "import torch.nn.functional as F\n",
    "import torch.autograd as autograd\n",
    "from torch import nn\n",
    "import matplotlib.pyplot as plt\n",
    "import time"
   ]
  },
  {
   "cell_type": "markdown",
   "metadata": {},
   "source": [
    "<h3>Config for model"
   ]
  },
  {
   "cell_type": "code",
   "execution_count": 91,
   "metadata": {},
   "outputs": [],
   "source": [
    "positive_sample_size = 500\n",
    "negative_sample_size = 500\n",
    "window_size = 1\n",
    "embedding_size = 5\n",
    "num_epochs = 1000\n",
    "batch_size = 50\n",
    "hidden_layer_size = 500\n",
    "hidden_layer_size_2 = 100"
   ]
  },
  {
   "cell_type": "markdown",
   "metadata": {},
   "source": [
    "<h3>Loading first 1000 rows (500 positive, 500 negative) into data for basic model"
   ]
  },
  {
   "cell_type": "code",
   "execution_count": 92,
   "metadata": {},
   "outputs": [],
   "source": [
    "positive_data = pd.read_csv('positive_sample.txt', header = None, nrows = positive_sample_size)\n",
    "positive_data.columns = [\"Gene\"]\n",
    "negative_data = pd.read_csv('negative_sample.txt', header = None, nrows = negative_sample_size)\n",
    "negative_data.columns = [\"Gene\"]\n",
    "train_data = positive_data.append(negative_data)\n",
    "#print(data.head(2))"
   ]
  },
  {
   "cell_type": "markdown",
   "metadata": {},
   "source": [
    "<h3>Helper methods for the model"
   ]
  },
  {
   "cell_type": "code",
   "execution_count": 93,
   "metadata": {},
   "outputs": [],
   "source": [
    "#Helper methods\n",
    "def get_labels():\n",
    "    #labels = []\n",
    "    #positive_\n",
    "    labels = torch.cat((torch.ones([500, 1], dtype=torch.float), torch.zeros([500, 1], dtype=torch.float)))\n",
    "    #print(labels)\n",
    "    return labels\n",
    "def embeddings_helper(window_size):\n",
    "    vocab_set = set()\n",
    "    def generate_vocab_helper(set, k): \n",
    "        n = len(set)  \n",
    "        generate_vocab(set, \"\", n, k) \n",
    "    def generate_vocab(set, prefix, n, k): \n",
    "        if (k == 0) : \n",
    "            vocab_set.add(prefix)\n",
    "            return\n",
    "        for i in range(n): \n",
    "            newPrefix = prefix + set[i] \n",
    "            generate_vocab(set, newPrefix, n, k - 1) \n",
    "    def generate_embed_map(n):\n",
    "        alphabet = ['0','1','2','3','4']\n",
    "        generate_vocab_helper(alphabet, n)\n",
    "\n",
    "        vocab_set_1 = sorted(vocab_set)\n",
    "        vocab_map = {}\n",
    "\n",
    "        for i in range(len(vocab_set_1)):\n",
    "            vocab_map[vocab_set_1[i]] = i\n",
    "        return vocab_map\n",
    "    return generate_embed_map(window_size)\n",
    "\n",
    "def return_embeddings(vocabulary):\n",
    "    embeds = nn.Embedding(len(vocabulary), embedding_size)\n",
    "    embeddings = {}\n",
    "    for word in vocabulary:\n",
    "        embeddings[word] = embeds(torch.tensor(vocabulary[word], dtype=torch.long))\n",
    "    return embeddings"
   ]
  },
  {
   "cell_type": "markdown",
   "metadata": {},
   "source": [
    "<h3>Creating word indexes for permutations of protein bases (words of vocabulary)"
   ]
  },
  {
   "cell_type": "code",
   "execution_count": 94,
   "metadata": {},
   "outputs": [],
   "source": [
    "vocabulary = embeddings_helper(window_size)\n",
    "embeddings = return_embeddings(vocabulary)\n",
    "#print(len(vocabulary))"
   ]
  },
  {
   "cell_type": "markdown",
   "metadata": {},
   "source": [
    "<h3>Create training data with training inputs and labels"
   ]
  },
  {
   "cell_type": "code",
   "execution_count": 95,
   "metadata": {},
   "outputs": [],
   "source": [
    "list_of_tensors = []\n",
    "for data in train_data.itertuples():\n",
    "    gene = data.Gene\n",
    "    for i in range(len(gene) - window_size + 1):\n",
    "        if i == 0:\n",
    "            first_tensor = embeddings[gene[i:i+window_size]]\n",
    "        else:\n",
    "            first_tensor = torch.cat((first_tensor, embeddings[gene[i:i+window_size]]), 0)\n",
    "    list_of_tensors.append(first_tensor)\n",
    "inputs = torch.stack(list_of_tensors)\n",
    "labels = get_labels()"
   ]
  },
  {
   "cell_type": "markdown",
   "metadata": {},
   "source": [
    "<h3> Implementing the FC Layer"
   ]
  },
  {
   "cell_type": "code",
   "execution_count": 97,
   "metadata": {},
   "outputs": [],
   "source": [
    "class Net(nn.Module):\n",
    "    def __init__(self):\n",
    "        super(Net, self).__init__()\n",
    "        self.fc1 = nn.Linear(505, hidden_layer_size)\n",
    "        self.relu = nn.Sigmoid()\n",
    "        self.fc2 = nn.Linear(hidden_layer_size, hidden_layer_size_2)\n",
    "        #self.prelu = nn.Sigmoid()\n",
    "        self.out = nn.Linear(hidden_layer_size_2, 1)\n",
    "        #self.out_act = nn.Sigmoid()\n",
    "\n",
    "    def forward(self, x):\n",
    "        a1 = self.fc1(x)\n",
    "        h1 = self.relu(a1)\n",
    "        #dout = self.dout(h1)\n",
    "        a2 = self.fc2(h1)\n",
    "        h2 = self.relu(a2)\n",
    "        a3 = self.out(h2)\n",
    "        y = self.relu(a3)\n",
    "        return y\n",
    "    \n",
    "def train_epoch(model, inputs, labels, optimizer, criterion, batch_size):\n",
    "    model.train()\n",
    "    losses = []\n",
    "    for i in range(0, inputs.size(0), batch_size):\n",
    "        data_batch = inputs[i:i + batch_size, :]\n",
    "        labels_batch = labels[i:i + batch_size, :]\n",
    "        data_batch = autograd.Variable(data_batch)\n",
    "        labels_batch = autograd.Variable(labels_batch)\n",
    "\n",
    "        optimizer.zero_grad()\n",
    "        # (1) Forward\n",
    "        labels_hat = net(data_batch)\n",
    "        # (2) Compute diff\n",
    "        loss = criterion(labels_hat, labels_batch)\n",
    "        # (3) Compute gradients\n",
    "        loss.backward()\n",
    "        # (4) update weights\n",
    "        optimizer.step()        \n",
    "        losses.append(loss.data.numpy())\n",
    "    loss = sum(losses)/len(losses)\n",
    "    return loss\n",
    "    \n",
    "def train_model(model, inputs, labels, optimizer, criterion, batch_size):\n",
    "    losses = []\n",
    "    print('Training the model:')\n",
    "    start_time = time.time()\n",
    "    for epoch in range(num_epochs):  # loop over the dataset multiple times\n",
    "        losses.append(train_epoch(model, inputs, labels, optimizer, criterion, batch_size))\n",
    "#         if epoch % 25 == 0:    #print every 25 mini-batches\n",
    "#             print('[%d, %5d] loss: %.9f' %\n",
    "#                 (epoch + 1, epoch + 1, running_loss/len(inputs)))\n",
    "#             #running_loss = 0.0\n",
    "    print('Finished. Training took %.3f' %((time.time() - start_time)/60), 'minutes.')\n",
    "    return losses"
   ]
  },
  {
   "cell_type": "code",
   "execution_count": 98,
   "metadata": {},
   "outputs": [
    {
     "name": "stdout",
     "output_type": "stream",
     "text": [
      "Training the model:\n",
      "Finished. Training took 0.412 minutes.\n"
     ]
    },
    {
     "data": {
      "image/png": "[encoded data removed]",
      "text/plain": [
       "<Figure size 432x288 with 1 Axes>"
      ]
     },
     "metadata": {
      "needs_background": "light"
     },
     "output_type": "display_data"
    }
   ],
   "source": [
    "net = Net() # Initialize the network\n",
    "criterion = nn.BCELoss()\n",
    "optimizer = optim.SGD(net.parameters(), lr=0.01, momentum=0.0)\n",
    "losses = train_model(net, inputs, labels, optimizer, criterion, batch_size)\n",
    "if losses != None:\n",
    "    plt.plot(losses)"
   ]
  },
  {
   "cell_type": "code",
   "execution_count": null,
   "metadata": {},
   "outputs": [],
   "source": []
  }
 ],
 "metadata": {
  "kernelspec": {
   "display_name": "Python 3",
   "language": "python",
   "name": "python3"
  },
  "language_info": {
   "codemirror_mode": {
    "name": "ipython",
    "version": 3
   },
   "file_extension": ".py",
   "mimetype": "text/x-python",
   "name": "python",
   "nbconvert_exporter": "python",
   "pygments_lexer": "ipython3",
   "version": "3.6.5"
  }
 },
 "nbformat": 4,
 "nbformat_minor": 2
}
