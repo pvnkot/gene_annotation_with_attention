{
 "cells": [
  {
   "cell_type": "code",
   "execution_count": 375,
   "metadata": {},
   "outputs": [],
   "source": [
    "#Imports\n",
    "import torch\n",
    "import pandas as pd\n",
    "import torch.optim as optim\n",
    "import torch.nn.functional as F\n",
    "import torch.autograd as autograd\n",
    "from torch import nn\n",
    "import matplotlib.pyplot as plt\n",
    "import time"
   ]
  },
  {
   "cell_type": "markdown",
   "metadata": {},
   "source": [
    "<h3>Config for model"
   ]
  },
  {
   "cell_type": "code",
   "execution_count": 388,
   "metadata": {},
   "outputs": [],
   "source": [
    "positive_sample_size = 500\n",
    "negative_sample_size = 500\n",
    "positive_test_sample_size = 100\n",
    "negative_test_sample_size = 100\n",
    "window_size = 3\n",
    "embedding_size = 5\n",
    "num_epochs = 1000\n",
    "batch_size = 50\n",
    "hidden_layer_size = 500\n",
    "hidden_layer_size_2 = 100\n",
    "with_attention = False\n",
    "learning_rate = 0.01"
   ]
  },
  {
   "cell_type": "markdown",
   "metadata": {},
   "source": [
    "<h3>Loading first 1000 rows (500 positive, 500 negative) into data for basic model"
   ]
  },
  {
   "cell_type": "code",
   "execution_count": 389,
   "metadata": {},
   "outputs": [],
   "source": [
    "positive_data = pd.read_csv('positive_sample.txt', header = None, nrows = positive_sample_size)\n",
    "positive_data.columns = [\"Gene\"]\n",
    "negative_data = pd.read_csv('negative_sample.txt', header = None, nrows = negative_sample_size)\n",
    "negative_data.columns = [\"Gene\"]\n",
    "positive_test_data = pd.read_fwf('positive_sample_test.txt', header = None)\n",
    "positive_test_data.columns = [\"Gene\"]\n",
    "negative_test_data = pd.read_fwf('negative_sample_test.txt', header = None)\n",
    "negative_test_data.columns = [\"Gene\"]\n",
    "train_data = positive_data.append(negative_data)\n",
    "test_data = positive_test_data.append(negative_test_data)\n",
    "#print(data.head(2))"
   ]
  },
  {
   "cell_type": "markdown",
   "metadata": {},
   "source": [
    "<h3>Helper methods for the model"
   ]
  },
  {
   "cell_type": "code",
   "execution_count": 390,
   "metadata": {},
   "outputs": [],
   "source": [
    "#Helper methods\n",
    "def get_labels(positive_sample_size, negative_sample_size):\n",
    "    #labels = []\n",
    "    #positive_\n",
    "    labels = torch.cat((torch.ones([positive_sample_size, 1], dtype=torch.float), torch.zeros([negative_sample_size, 1], dtype=torch.float)))\n",
    "    #print(labels)\n",
    "    return labels\n",
    "def embeddings_helper(window_size):\n",
    "    vocab_set = set()\n",
    "    def generate_vocab_helper(set, k): \n",
    "        n = len(set)  \n",
    "        generate_vocab(set, \"\", n, k) \n",
    "    def generate_vocab(set, prefix, n, k): \n",
    "        if (k == 0) : \n",
    "            vocab_set.add(prefix)\n",
    "            return\n",
    "        for i in range(n): \n",
    "            newPrefix = prefix + set[i] \n",
    "            generate_vocab(set, newPrefix, n, k - 1) \n",
    "    def generate_embed_map(n):\n",
    "        alphabet = ['0','1','2','3','4']\n",
    "        generate_vocab_helper(alphabet, n)\n",
    "\n",
    "        vocab_set_1 = sorted(vocab_set)\n",
    "        vocab_map = {}\n",
    "\n",
    "        for i in range(len(vocab_set_1)):\n",
    "            vocab_map[vocab_set_1[i]] = i\n",
    "        return vocab_map\n",
    "    return generate_embed_map(window_size)\n",
    "\n",
    "def return_embeddings(vocabulary):\n",
    "    embeds = nn.Embedding(len(vocabulary), embedding_size)\n",
    "    embeddings = {}\n",
    "    for word in vocabulary:\n",
    "        embeddings[word] = embeds(torch.tensor(vocabulary[word], dtype=torch.long))\n",
    "    return embeddings\n",
    "\n",
    "#ATG, GTG, TTG\n",
    "def is_start_codon(codon):\n",
    "    start_codons = ['143', '343', '443']#['ATG', 'GTG', 'TTG']\n",
    "    if codon in start_codons:\n",
    "        return True\n",
    "    return False\n",
    "\n",
    "def set_hyperparameters(win_size, epochs, batchsize):\n",
    "    window_size = win_size\n",
    "    num_epochs = epochs\n",
    "    batch_size = batchsize"
   ]
  },
  {
   "cell_type": "markdown",
   "metadata": {},
   "source": [
    "<h3>Creating word indexes for permutations of protein bases (words of vocabulary)"
   ]
  },
  {
   "cell_type": "code",
   "execution_count": 391,
   "metadata": {},
   "outputs": [],
   "source": [
    "vocabulary = embeddings_helper(window_size)\n",
    "embeddings = return_embeddings(vocabulary)\n",
    "#print(len(vocabulary))"
   ]
  },
  {
   "cell_type": "markdown",
   "metadata": {},
   "source": [
    "<h3>Create training data with training inputs and labels"
   ]
  },
  {
   "cell_type": "code",
   "execution_count": 392,
   "metadata": {},
   "outputs": [],
   "source": [
    "def get_inputs_and_labels(with_attention, datapoints, positive_sample_size, negative_sample_size):\n",
    "    list_of_tensors = []\n",
    "    #\n",
    "    # In an array, place 1s for codons that match the start pattern and 0s for codons that do not.\n",
    "    #\n",
    "    codon_arr = []\n",
    "    for data in datapoints.itertuples():\n",
    "        gene = data.Gene\n",
    "\n",
    "        for i in range(len(gene) - window_size + 1):\n",
    "            codon = gene[i:i+window_size]\n",
    "            weight = 1\n",
    "            if with_attention and is_start_codon(codon):\n",
    "                weight = i+1\n",
    "            if i == 0:\n",
    "                first_tensor = embeddings[gene[i:i+window_size]] * weight\n",
    "            else:\n",
    "                first_tensor = torch.cat((first_tensor, weight * embeddings[gene[i:i+window_size]]), 0)\n",
    "\n",
    "        list_of_tensors.append(first_tensor)\n",
    "    inputs = torch.stack(list_of_tensors)\n",
    "    labels = get_labels(positive_sample_size, negative_sample_size)\n",
    "    return inputs, labels"
   ]
  },
  {
   "cell_type": "markdown",
   "metadata": {},
   "source": [
    "<h3> Implementing the FC Layer"
   ]
  },
  {
   "cell_type": "code",
   "execution_count": 393,
   "metadata": {},
   "outputs": [],
   "source": [
    "class Net(nn.Module):\n",
    "    def __init__(self):\n",
    "        super(Net, self).__init__()\n",
    "        self.fc1 = nn.Linear(embedding_size*(len(positive_data.Gene[0]) - window_size + 1), hidden_layer_size)\n",
    "        self.relu = nn.Sigmoid()\n",
    "        self.fc2 = nn.Linear(hidden_layer_size, hidden_layer_size_2)\n",
    "        #self.prelu = nn.Sigmoid()\n",
    "        self.out = nn.Linear(hidden_layer_size_2, 1)\n",
    "        #self.out_act = nn.Sigmoid()\n",
    "\n",
    "    def forward(self, x):\n",
    "        a1 = self.fc1(x)\n",
    "        h1 = self.relu(a1)\n",
    "        #dout = self.dout(h1)\n",
    "        a2 = self.fc2(h1)\n",
    "        h2 = self.relu(a2)\n",
    "        a3 = self.out(h2)\n",
    "        y = self.relu(a3)\n",
    "        return y\n",
    "    \n",
    "def train_epoch(model, inputs, labels, optimizer, criterion, batch_size):\n",
    "    model.train()\n",
    "    losses = []\n",
    "    for i in range(0, inputs.size(0), batch_size):\n",
    "        data_batch = inputs[i:i + batch_size, :]\n",
    "        labels_batch = labels[i:i + batch_size, :]\n",
    "        data_batch = autograd.Variable(data_batch)\n",
    "        labels_batch = autograd.Variable(labels_batch)\n",
    "\n",
    "        optimizer.zero_grad()\n",
    "        # (1) Forward\n",
    "        labels_hat = net(data_batch)\n",
    "        #print(labels_hat)\n",
    "        # (2) Compute diff\n",
    "        loss = criterion(labels_hat, labels_batch)\n",
    "        # (3) Compute gradients\n",
    "        loss.backward()\n",
    "        # (4) update weights\n",
    "        optimizer.step()        \n",
    "        losses.append(loss.data.numpy())\n",
    "    loss = sum(losses)/len(losses)\n",
    "    return loss\n",
    "    \n",
    "def train_model(model, inputs, labels, optimizer, criterion, with_attention, batch_size):\n",
    "    losses = []\n",
    "    print('Training the model:')\n",
    "    start_time = time.time()\n",
    "    for epoch in range(num_epochs):  # loop over the dataset multiple times\n",
    "        losses.append(train_epoch(model, inputs, labels, optimizer, criterion, batch_size))\n",
    "#         if epoch % 25 == 0:    #print every 25 mini-batches\n",
    "#             print('[%d, %5d] loss: %.9f' %\n",
    "#                 (epoch + 1, epoch + 1, running_loss/len(inputs)))\n",
    "#             #running_loss = 0.0\n",
    "    model_name = 'fc_with_attention_4k_e_1k.pt' if with_attention else 'fc_4k_e_1k.pt'\n",
    "    torch.save(model.state_dict(), model_name)\n",
    "    print('Finished. Training took %.3f' %((time.time() - start_time)/60), 'minutes.')\n",
    "    return losses"
   ]
  },
  {
   "cell_type": "code",
   "execution_count": 394,
   "metadata": {},
   "outputs": [],
   "source": [
    "# Initialize the network\n",
    "def training():\n",
    "    net = Net()\n",
    "    inputs, labels = get_inputs_and_labels(with_attention, train_data, positive_sample_size, negative_sample_size)\n",
    "    criterion = nn.BCELoss()\n",
    "    optimizer = optim.SGD(net.parameters(), lr=learning_rate, momentum=0.0)\n",
    "    losses = train_model(net, inputs, labels, optimizer, criterion, with_attention, batch_size)\n",
    "    if losses != None:\n",
    "        plt.plot(losses)\n",
    "        title = 'Loss vs Epochs for: ' + (str)(positive_sample_size+negative_sample_size) + ' data points and ' + (str)(num_epochs) + ' epochs'\n",
    "        plt.title(title)"
   ]
  },
  {
   "cell_type": "code",
   "execution_count": 395,
   "metadata": {},
   "outputs": [],
   "source": [
    "#net = Net()\n",
    "#training()\n",
    "#training(net, training_inputs, training_labels, optimizer, criterion, with_attention, batch_size)"
   ]
  },
  {
   "cell_type": "code",
   "execution_count": 396,
   "metadata": {},
   "outputs": [],
   "source": []
  },
  {
   "cell_type": "markdown",
   "metadata": {},
   "source": [
    "<h3>Window size of 3, 1000 epochs and batch size of 50:"
   ]
  },
  {
   "cell_type": "code",
   "execution_count": 397,
   "metadata": {},
   "outputs": [
    {
     "name": "stdout",
     "output_type": "stream",
     "text": [
      "Training the model:\n",
      "Finished. Training took 0.330 minutes.\n",
      "Accuracy is:  49.5\n"
     ]
    },
    {
     "data": {
      "image/png": "[encoded data removed]",
      "text/plain": [
       "<Figure size 432x288 with 1 Axes>"
      ]
     },
     "metadata": {
      "needs_background": "light"
     },
     "output_type": "display_data"
    }
   ],
   "source": [
    "set_hyperparameters(3, 1000, 50)\n",
    "training()\n",
    "test()"
   ]
  },
  {
   "cell_type": "markdown",
   "metadata": {},
   "source": [
    "<h3>Window size of 3, 2000 epochs and batch size of 50:"
   ]
  },
  {
   "cell_type": "code",
   "execution_count": 387,
   "metadata": {},
   "outputs": [
    {
     "name": "stdout",
     "output_type": "stream",
     "text": [
      "Accuracy is:  55.00000000000001\n"
     ]
    }
   ],
   "source": [
    "set_hyperparameters(3, 2000, 50)\n",
    "test()"
   ]
  },
  {
   "cell_type": "markdown",
   "metadata": {},
   "source": []
  }
 ],
 "metadata": {
  "kernelspec": {
   "display_name": "Python 3",
   "language": "python",
   "name": "python3"
  },
  "language_info": {
   "codemirror_mode": {
    "name": "ipython",
    "version": 3
   },
   "file_extension": ".py",
   "mimetype": "text/x-python",
   "name": "python",
   "nbconvert_exporter": "python",
   "pygments_lexer": "ipython3",
   "version": "3.6.5"
  }
 },
 "nbformat": 4,
 "nbformat_minor": 2
}
